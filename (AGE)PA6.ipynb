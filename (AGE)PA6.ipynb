{
 "cells": [
  {
   "cell_type": "markdown",
   "id": "668184be",
   "metadata": {},
   "source": [
    "* Ari G. Eastman\n",
    "* Programming Assignment 6, V1\n",
    "* CS150\n",
    "* Computer Programming for the Liberal Arts"
   ]
  },
  {
   "cell_type": "markdown",
   "id": "e8418754",
   "metadata": {},
   "source": [
    "# Writing Functions\n",
    "## Goal: To gain experience writing Python programs that are broken up into functions"
   ]
  },
  {
   "cell_type": "markdown",
   "id": "3a4e3528",
   "metadata": {},
   "source": [
    "#### Task1: Write a Python program will calculate the area and perimeter of a triangle using two different functions named calcArea() and calcPerimeter(). Your program should prompt the user for the length of three sides of the triangle. Each function should take the lengths of the sides as arguments and return the output of their respective calculations. As an added feature, set the default values of your parameters to 1 so if you call either function without parameters, it will still produce output) (I recommend using Heron’s Method for calculating the area of a triangle.)"
   ]
  },
  {
   "cell_type": "code",
   "execution_count": 1,
   "id": "ae159fc2",
   "metadata": {},
   "outputs": [],
   "source": [
    "def calcArea(a=1, b=1, c=1):\n",
    "    s = (a + b + c) / 2\n",
    "    area = (s*(s-a)*(s-b)*(s-c)) ** 0.5\n",
    "    return area\n",
    "\n",
    "def calcPerimeter(a=1, b=1, c=1):\n",
    "    perimeter = a + b + c\n",
    "    return perimeter\n",
    "\n",
    "def Prompt(): \n",
    "    a = int(input('Enter Side A: '))\n",
    "    b = int(input('Enter Side B: '))\n",
    "    c = int(input('Enter Side C: '))\n",
    "\n",
    "    print (f\"The Area Of The Triangle Is Approximately\", calcArea(a, b, c), \"square units\")\n",
    "    print (f\"The Perimeter Of The Triangle Is \", calcPerimeter(a, b, c), \"linear units.\")"
   ]
  },
  {
   "cell_type": "code",
   "execution_count": 2,
   "id": "d4027a6a",
   "metadata": {},
   "outputs": [
    {
     "name": "stdout",
     "output_type": "stream",
     "text": [
      "Enter Side A: 3\n",
      "Enter Side B: 4\n",
      "Enter Side C: 5\n",
      "The Area Of The Triangle Is Approximately 6.0 square units\n",
      "The Perimeter Of The Triangle Is  12 linear units.\n"
     ]
    }
   ],
   "source": [
    "Prompt()"
   ]
  },
  {
   "cell_type": "code",
   "execution_count": 3,
   "id": "ea48c805",
   "metadata": {},
   "outputs": [
    {
     "name": "stdout",
     "output_type": "stream",
     "text": [
      "Default Area Square Unit Value: 0.4330127018922193\n",
      "Default Perimeter Linear Unit Value: 3\n"
     ]
    }
   ],
   "source": [
    "print(f\"Default Area Square Unit Value:\", calcArea())\n",
    "print(f\"Default Perimeter Linear Unit Value:\", calcPerimeter())"
   ]
  },
  {
   "cell_type": "markdown",
   "id": "55a4d743",
   "metadata": {},
   "source": [
    "#### Task2: Write a Python program to play “Guess the Number”. Your program should generate a random number between 1 and 1000 and then prompt the user for a guess. Possible responses to the guess should be ‘Too high! Guess again’, ‘Too low! Guess again’, and ‘Correct!’."
   ]
  },
  {
   "cell_type": "markdown",
   "id": "702f48b3",
   "metadata": {},
   "source": [
    "* The program should continue to prompt for input from the user until they supply the correct answer. The part of the program that evaluates the user’s guess should be in a function named evaluateGuess() that takes the guess and the randomly generated number as parameters."
   ]
  },
  {
   "cell_type": "code",
   "execution_count": 4,
   "id": "17db4085",
   "metadata": {},
   "outputs": [],
   "source": [
    "import random\n",
    "Lower = 1\n",
    "Upper = 1000\n",
    "Max = 1000\n",
    "correctNumber = random.randint(Lower, Upper)\n",
    "\n",
    "def userGuess():\n",
    "    while True:\n",
    "        try:\n",
    "            guess = int(input(f\"Guess a number between {Lower} and {Upper}: \"))\n",
    "            if Lower <= guess <= Upper:\n",
    "                return guess\n",
    "            else:\n",
    "                print(\"Invalid input. Please enter a number within the specified range.\")\n",
    "        except ValueError:\n",
    "            print(\"Invalid input. Please enter a valid number.\")\n",
    "            \n",
    "def evaluateGuess(guess, correctNumber):\n",
    "    if guess == correctNumber:\n",
    "        return \"Correct\"\n",
    "    elif guess < correctNumber:\n",
    "        return \"Too low\"\n",
    "    else:\n",
    "        return \"Too high\"\n",
    "\n",
    "def NumGame():\n",
    "    attempts = 0\n",
    "    won = False\n",
    "    while attempts < Max:\n",
    "        attempts += 1\n",
    "        guess = userGuess()\n",
    "        result = evaluateGuess(guess, correctNumber)\n",
    "        if result == \"Correct\":\n",
    "            print(f\"Correct!\")\n",
    "            won = True\n",
    "            break\n",
    "        else:\n",
    "            print(f\"{result}. Try again!\")\n",
    "    if not won:\n",
    "        print(f\"Sorry, you ran out of attempts! The Correct Number is {correctNumber}.\")"
   ]
  },
  {
   "cell_type": "code",
   "execution_count": 5,
   "id": "e65fd802",
   "metadata": {},
   "outputs": [
    {
     "name": "stdout",
     "output_type": "stream",
     "text": [
      "Guess a number between 1 and 1000: 900\n",
      "Too high. Try again!\n",
      "Guess a number between 1 and 1000: 500\n",
      "Too low. Try again!\n",
      "Guess a number between 1 and 1000: 700\n",
      "Too low. Try again!\n",
      "Guess a number between 1 and 1000: 800\n",
      "Too high. Try again!\n",
      "Guess a number between 1 and 1000: 750\n",
      "Too low. Try again!\n",
      "Guess a number between 1 and 1000: 780\n",
      "Too low. Try again!\n",
      "Guess a number between 1 and 1000: 799\n",
      "Too high. Try again!\n",
      "Guess a number between 1 and 1000: 795\n",
      "Too low. Try again!\n",
      "Guess a number between 1 and 1000: 794\n",
      "Too low. Try again!\n",
      "Guess a number between 1 and 1000: 798\n",
      "Too high. Try again!\n",
      "Guess a number between 1 and 1000: 797\n",
      "Too high. Try again!\n",
      "Guess a number between 1 and 1000: 796\n",
      "Correct!\n"
     ]
    }
   ],
   "source": [
    "NumGame()"
   ]
  },
  {
   "cell_type": "markdown",
   "id": "091cd17e",
   "metadata": {},
   "source": [
    "#### Task3: Write a Python program to calculate the mean temperature over a set of Fahrenheit temperature values. Your program should calculate the mean in a function called meanTemp()and then print message that indicates the number of days your mean represents and the mean (see below). Your function should be flexible so that you can pass any number of temperatures to it. You do not need to get input from the user; simply include the temperatures in the function parameter list."
   ]
  },
  {
   "cell_type": "markdown",
   "id": "99253e4a",
   "metadata": {},
   "source": [
    "The mean temperature for the past 7 days is 88.00 degrees F.\n",
    "\n",
    "The mean temperature for the past 5 days is 88.20 degrees F.\n",
    "\n",
    "The mean temperature for the past 2 days is 90.00 degrees F."
   ]
  },
  {
   "cell_type": "code",
   "execution_count": 6,
   "id": "f2a9efd6",
   "metadata": {},
   "outputs": [],
   "source": [
    "def daysRep(days):\n",
    "    return days\n",
    "def meanTemp(TempValues):\n",
    "    return sum(TempValues)/len(TempValues)"
   ]
  },
  {
   "cell_type": "code",
   "execution_count": 7,
   "id": "6a56e7fa",
   "metadata": {},
   "outputs": [
    {
     "name": "stdout",
     "output_type": "stream",
     "text": [
      "44.0\n",
      "3\n"
     ]
    }
   ],
   "source": [
    "print(f\"{meanTemp(TempValues=[33,44,55])}\")\n",
    "print(f\"{daysRep(days=3)}\")"
   ]
  },
  {
   "cell_type": "code",
   "execution_count": 8,
   "id": "b2b4ab2b",
   "metadata": {},
   "outputs": [
    {
     "name": "stdout",
     "output_type": "stream",
     "text": [
      "The mean temperature for the past 3 days is 69.67 degrees F.\n"
     ]
    }
   ],
   "source": [
    "print(f\"The mean temperature for the past {daysRep(days=3)} days is {meanTemp(TempValues=[66,78,65]):.2f} degrees F.\")"
   ]
  },
  {
   "cell_type": "code",
   "execution_count": 9,
   "id": "913e826e",
   "metadata": {},
   "outputs": [
    {
     "name": "stdout",
     "output_type": "stream",
     "text": [
      "The mean temperature for the past 6 days is 66.33 degrees F.\n"
     ]
    }
   ],
   "source": [
    "print(f\"The mean temperature for the past {daysRep(days=6)} days is {meanTemp(TempValues=[66,78,65,45,66,78]):.2f} degrees F.\")"
   ]
  },
  {
   "cell_type": "code",
   "execution_count": 10,
   "id": "12f10ede",
   "metadata": {},
   "outputs": [
    {
     "name": "stdout",
     "output_type": "stream",
     "text": [
      "The mean temperature for the past 9 days is 67.56 degrees F.\n"
     ]
    }
   ],
   "source": [
    "print(f\"The mean temperature for the past {daysRep(days=9)} days is {meanTemp(TempValues=[66,78,65,45,66,78,99,45,66]):.2f} degrees F.\")"
   ]
  }
 ],
 "metadata": {
  "kernelspec": {
   "display_name": "Python 3 (ipykernel)",
   "language": "python",
   "name": "python3"
  },
  "language_info": {
   "codemirror_mode": {
    "name": "ipython",
    "version": 3
   },
   "file_extension": ".py",
   "mimetype": "text/x-python",
   "name": "python",
   "nbconvert_exporter": "python",
   "pygments_lexer": "ipython3",
   "version": "3.11.4"
  }
 },
 "nbformat": 4,
 "nbformat_minor": 5
}
